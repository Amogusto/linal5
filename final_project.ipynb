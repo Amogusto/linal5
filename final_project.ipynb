{
 "cells": [
  {
   "cell_type": "markdown",
   "id": "68671630",
   "metadata": {},
   "source": [
    "# HW5"
   ]
  },
  {
   "cell_type": "markdown",
   "id": "0f3180c5",
   "metadata": {},
   "source": [
    "1. Найти с помощью NumPy SVD для матрицы"
   ]
  },
  {
   "cell_type": "code",
   "execution_count": 1,
   "id": "7c7971fb",
   "metadata": {},
   "outputs": [],
   "source": [
    "import numpy as np\n",
    "np.set_printoptions(precision=2, suppress=True)"
   ]
  },
  {
   "cell_type": "code",
   "execution_count": 3,
   "id": "9785bd14",
   "metadata": {},
   "outputs": [],
   "source": [
    "A=np.array([[1,2,0],[0,0,5],[3,-4,2],[1,6,5],[0,1,0]])"
   ]
  },
  {
   "cell_type": "code",
   "execution_count": 5,
   "id": "3d47cdfe",
   "metadata": {},
   "outputs": [],
   "source": [
    "U, s, W = np.linalg.svd(A)"
   ]
  },
  {
   "cell_type": "code",
   "execution_count": 6,
   "id": "baec12b9",
   "metadata": {},
   "outputs": [],
   "source": [
    "D = np.zeros_like(A, dtype=float)\n",
    "D[np.diag_indices(min(A.shape))] = s"
   ]
  },
  {
   "cell_type": "code",
   "execution_count": 7,
   "id": "198fce75",
   "metadata": {},
   "outputs": [
    {
     "name": "stdout",
     "output_type": "stream",
     "text": [
      "Матрица A:\n",
      "[[ 1  2  0]\n",
      " [ 0  0  5]\n",
      " [ 3 -4  2]\n",
      " [ 1  6  5]\n",
      " [ 0  1  0]]\n",
      "Матрица U:\n",
      "[[ 0.17  0.16 -0.53 -0.8  -0.16]\n",
      " [ 0.39 -0.53  0.61 -0.43  0.03]\n",
      " [-0.14 -0.82 -0.52  0.14  0.07]\n",
      " [ 0.89  0.06 -0.25  0.38 -0.06]\n",
      " [ 0.08  0.11 -0.08 -0.11  0.98]]\n",
      "Матрица D:\n",
      "[[8.82 0.   0.  ]\n",
      " [0.   6.14 0.  ]\n",
      " [0.   0.   2.53]\n",
      " [0.   0.   0.  ]\n",
      " [0.   0.   0.  ]]\n",
      "Матрица V:\n",
      "[[ 0.07 -0.37 -0.93]\n",
      " [ 0.72  0.67 -0.21]\n",
      " [ 0.69 -0.65  0.31]]\n"
     ]
    }
   ],
   "source": [
    "print(f'Матрица A:\\n{A}')\n",
    "print(f'Матрица U:\\n{U}')\n",
    "print(f'Матрица D:\\n{D}')\n",
    "print(f'Матрица V:\\n{W.T}')"
   ]
  },
  {
   "cell_type": "code",
   "execution_count": 8,
   "id": "2cfd9862",
   "metadata": {},
   "outputs": [
    {
     "data": {
      "text/plain": [
       "array([[ 1.,  2., -0.],\n",
       "       [-0.,  0.,  5.],\n",
       "       [ 3., -4.,  2.],\n",
       "       [ 1.,  6.,  5.],\n",
       "       [ 0.,  1.,  0.]])"
      ]
     },
     "execution_count": 8,
     "metadata": {},
     "output_type": "execute_result"
    }
   ],
   "source": [
    "U@D@W"
   ]
  },
  {
   "cell_type": "markdown",
   "id": "304cea87",
   "metadata": {},
   "source": [
    "2. Для матрицы из предыдущего задания найти:\n",
    "\n",
    "а) евклидову норму;\n",
    "\n",
    "б) норму Фробениуса."
   ]
  },
  {
   "cell_type": "markdown",
   "id": "d75792c0",
   "metadata": {},
   "source": [
    "а) евклидову норму;"
   ]
  },
  {
   "cell_type": "code",
   "execution_count": 9,
   "id": "11c2b2f1",
   "metadata": {},
   "outputs": [
    {
     "data": {
      "text/plain": [
       "8.824868854820442"
      ]
     },
     "execution_count": 9,
     "metadata": {},
     "output_type": "execute_result"
    }
   ],
   "source": [
    "np.linalg.norm(A, ord=2)"
   ]
  },
  {
   "cell_type": "markdown",
   "id": "e17e8a80",
   "metadata": {},
   "source": [
    "б) норму Фробениуса."
   ]
  },
  {
   "cell_type": "code",
   "execution_count": 10,
   "id": "ceb6d442",
   "metadata": {},
   "outputs": [
    {
     "name": "stdout",
     "output_type": "stream",
     "text": [
      "Норма фробениуса для матрицы A:\n",
      "11.045361017187261\n"
     ]
    }
   ],
   "source": [
    "def my_frobenius(matrix):\n",
    "    sum_square=0\n",
    "    for i in range(len(matrix)):\n",
    "        for j in range(len(matrix[0])):\n",
    "            sum_square+=matrix[i][j]**2\n",
    "    return np.sqrt(sum_square)\n",
    "\n",
    "print(f'Норма фробениуса для матрицы A:\\n{my_frobenius(A)}')"
   ]
  },
  {
   "cell_type": "code",
   "execution_count": 11,
   "id": "716a09ee",
   "metadata": {},
   "outputs": [
    {
     "data": {
      "text/plain": [
       "array([8.82, 6.14, 2.53])"
      ]
     },
     "execution_count": 11,
     "metadata": {},
     "output_type": "execute_result"
    }
   ],
   "source": [
    "U,s,W=np.linalg.svd(A)\n",
    "s"
   ]
  },
  {
   "cell_type": "code",
   "execution_count": 12,
   "id": "3d8c6714",
   "metadata": {},
   "outputs": [
    {
     "name": "stdout",
     "output_type": "stream",
     "text": [
      "Норма фробениуса для матрицы A:\n",
      "11.045361017187265\n"
     ]
    }
   ],
   "source": [
    "frob_norm=np.sqrt(np.sum(s**2))\n",
    "print(f'Норма фробениуса для матрицы A:\\n{frob_norm}')"
   ]
  },
  {
   "cell_type": "code",
   "execution_count": null,
   "id": "99bc3972",
   "metadata": {},
   "outputs": [],
   "source": []
  }
 ],
 "metadata": {
  "kernelspec": {
   "display_name": "Python 3 (ipykernel)",
   "language": "python",
   "name": "python3"
  },
  "language_info": {
   "codemirror_mode": {
    "name": "ipython",
    "version": 3
   },
   "file_extension": ".py",
   "mimetype": "text/x-python",
   "name": "python",
   "nbconvert_exporter": "python",
   "pygments_lexer": "ipython3",
   "version": "3.9.12"
  }
 },
 "nbformat": 4,
 "nbformat_minor": 5
}
